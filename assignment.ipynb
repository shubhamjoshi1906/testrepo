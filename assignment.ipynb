{
    "cells": [
        {
            "cell_type": "markdown",
            "metadata": {
                "collapsed": true
            },
            "source": "# My Jupyter Notebook on IBM Watson Studio\n"
        },
        {
            "cell_type": "markdown",
            "metadata": {},
            "source": "**Shubhanshu Joshi**\n\nI am an aspiring data scientist \n"
        },
        {
            "cell_type": "markdown",
            "metadata": {},
            "source": "*I am intrested in data science because it tends to create a direct impact on the people's life. Also if we talk about any company, data science can help it grow from plinth to paramount."
        },
        {
            "cell_type": "markdown",
            "metadata": {},
            "source": "# The following code adds up two numbers"
        },
        {
            "cell_type": "code",
            "execution_count": 10,
            "metadata": {},
            "outputs": [
                {
                    "data": {
                        "text/plain": "30"
                    },
                    "execution_count": 10,
                    "metadata": {},
                    "output_type": "execute_result"
                }
            ],
            "source": "a=10\nb=20\na+b"
        },
        {
            "cell_type": "markdown",
            "metadata": {},
            "source": "*  one\n*  two\n*  data science\n*  coursera"
        },
        {
            "cell_type": "markdown",
            "metadata": {},
            "source": "1 data analytics\n2 data scientist\n3 machine learning\n4 deep learning"
        },
        {
            "cell_type": "markdown",
            "metadata": {},
            "source": "Col1 |Col2 |Col3\n---- | ---- |-----\nData1 |Data2 |Data3\nData1 |Data2 |Data3\n"
        },
        {
            "cell_type": "code",
            "execution_count": null,
            "metadata": {},
            "outputs": [],
            "source": ""
        }
    ],
    "metadata": {
        "kernelspec": {
            "display_name": "Python 3.10",
            "language": "python",
            "name": "python3"
        },
        "language_info": {
            "codemirror_mode": {
                "name": "ipython",
                "version": 3
            },
            "file_extension": ".py",
            "mimetype": "text/x-python",
            "name": "python",
            "nbconvert_exporter": "python",
            "pygments_lexer": "ipython3",
            "version": "3.10.6"
        }
    },
    "nbformat": 4,
    "nbformat_minor": 1
}